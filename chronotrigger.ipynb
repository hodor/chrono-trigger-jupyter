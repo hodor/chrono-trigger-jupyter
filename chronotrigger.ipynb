{
 "cells": [
  {
   "cell_type": "markdown",
   "source": [
    "# Chrono Trigger\n",
    "Running some tests with the data found [here](https://docs.google.com/spreadsheets/d/19X5OfcvansoOZrAgIwW3BYhITnEAXFITMG14KkopWnU/edit#gid=1156088696)"
   ],
   "metadata": {
    "collapsed": false
   }
  },
  {
   "cell_type": "markdown",
   "source": [
    "# Importing data\n",
    "\n",
    "Creating a simple `Character` class that takes care of reading the data, storing it and saving the character name, to make plotting easier."
   ],
   "metadata": {
    "collapsed": false,
    "pycharm": {
     "name": "#%% md\n"
    }
   }
  },
  {
   "cell_type": "code",
   "execution_count": 215,
   "outputs": [
    {
     "name": "stdout",
     "output_type": "stream",
     "text": [
      "Crono\n",
      "    Level   HP  MP  Evasion  Hit  Magic  Magic Defense  Power  Stamina\n",
      "0       1   70   8        8    8      5              2      5        8\n",
      "1       2   83  10        8    8      5              3      6        9\n",
      "2       3   96  12        8    8      5              5      7       11\n",
      "3       4  109  14        9    8      6              6      9       12\n",
      "4       5  122  16        9    9      6              8     10       14\n",
      "..    ...  ...  ..      ...  ...    ...            ...    ...      ...\n",
      "94     95  999  99       43   36     44             99     99       99\n",
      "95     96  999  99       44   36     44             99     99       99\n",
      "96     97  999  99       44   36     45             99     99       99\n",
      "97     98  999  99       44   37     45             99     99       99\n",
      "98     99  999  99       45   37     46             99     99       99\n",
      "\n",
      "[99 rows x 9 columns]\n"
     ]
    }
   ],
   "source": [
    "import numpy as np\n",
    "import pandas as pd\n",
    "\n",
    "\n",
    "class Character(object):\n",
    "    def __init__(self, csv_path):\n",
    "        self.name = csv_path.split('/')[-1].split('.')[0]\n",
    "        self.data = pd.read_csv(csv_path)\n",
    "\n",
    "    def get_data(self):\n",
    "        return self.data\n",
    "\n",
    "    def get_name(self):\n",
    "        return self.name\n",
    "\n",
    "crono = Character(\"./data/Crono.csv\")\n",
    "ayla = Character(\"./data/Ayla.csv\")\n",
    "frog  = Character(\"./data/Frog.csv\")\n",
    "lucca = Character(\"./data/Lucca.csv\")\n",
    "marle = Character(\"./data/Marle.csv\")\n",
    "magus = Character(\"./data/Magus.csv\")\n",
    "robo = Character(\"./data/Robo.csv\")\n",
    "weapons = pd.read_csv(\"./data/Weapons.csv\")\n",
    "helmets = pd.read_csv(\"./data/Helmets.csv\")\n",
    "armors = pd.read_csv(\"./data/Armors.csv\")\n",
    "accessories = pd.read_csv(\"./data/Accessories.csv\")\n",
    "\n",
    "all_characters = [crono, lucca, frog, marle, robo, ayla, magus]\n",
    "\n",
    "print(crono.name)\n",
    "print(crono.data)"
   ],
   "metadata": {
    "collapsed": false,
    "pycharm": {
     "name": "#%%\n"
    }
   }
  },
  {
   "cell_type": "markdown",
   "source": [
    "# Comparing Stats\n",
    "Methods for comparing character stats among themselves.\n",
    "We'll first compare the raw data between all character then we will pick the deltas (or how much each stat is improved on each level) and compare those as well."
   ],
   "metadata": {
    "collapsed": false
   }
  },
  {
   "cell_type": "code",
   "source": [
    "# Enabling interactive plot\n",
    "%matplotlib widget"
   ],
   "metadata": {
    "collapsed": false,
    "pycharm": {
     "name": "#%%\n"
    }
   },
   "execution_count": 216,
   "outputs": []
  },
  {
   "cell_type": "code",
   "source": [
    "import matplotlib\n",
    "import seaborn as sns\n",
    "class Comparison(object):\n",
    "    @staticmethod\n",
    "    def __get_stat(char, stat):\n",
    "        char_data = char.get_data()\n",
    "        return char_data[stat]\n",
    "\n",
    "    @staticmethod\n",
    "    def __get_capped_stat(char, stat, max_value):\n",
    "        # Getting the HP until it hits the max value once, then we don't need to get it anymore\n",
    "        s = Comparison.__get_stat(char, stat)\n",
    "        unique = []\n",
    "        hit_top = False\n",
    "        for i in s:\n",
    "            if not hit_top:\n",
    "                unique.append(i)\n",
    "                if i >= max_value:\n",
    "                    hit_top = True\n",
    "        return unique\n",
    "\n",
    "    @staticmethod\n",
    "    def get_capped_data(stat, max_value):\n",
    "        max_size = 0\n",
    "        for c in all_characters:\n",
    "            s = Comparison.__get_capped_stat(c, stat, max_value)\n",
    "            if len(s) > max_size:\n",
    "                max_size = len(s)\n",
    "        values = {}\n",
    "        for c in all_characters:\n",
    "            s = Comparison.__get_capped_stat(c, stat, max_value)\n",
    "            while len(s) < max_size:\n",
    "                s.append(999)\n",
    "            values[c.get_name()] = s\n",
    "        return pd.DataFrame(data=values)\n",
    "\n",
    "    @staticmethod\n",
    "    def get_stat_data(stat):\n",
    "        values = {}\n",
    "        for c in all_characters:\n",
    "            stat_values = Comparison.__get_stat(c, stat)\n",
    "            values[c.get_name()] = stat_values\n",
    "        return pd.DataFrame(data=values)\n",
    "\n",
    "    @staticmethod\n",
    "    def get_stat_data_delta(stat):\n",
    "        values = {}\n",
    "        for c in all_characters:\n",
    "            stat_values = Comparison.__get_stat(c, stat)\n",
    "            stat_values = stat_values.diff().shift(-1)\n",
    "            values[c.get_name()] = stat_values\n",
    "\n",
    "        return pd.DataFrame(data=values)\n",
    "\n",
    "class LinePlotter(object):\n",
    "    @staticmethod\n",
    "    def set_size(width, height):\n",
    "        matplotlib.rcParams['figure.figsize'] = [width, height]\n",
    "\n",
    "    @staticmethod\n",
    "    def plot_line(data):\n",
    "        sns.set_style(\"darkgrid\")\n",
    "        sns.lineplot(data=data, linewidth=2.5)\n",
    "\n",
    "class DeltaPlotter(object):\n",
    "    @staticmethod\n",
    "    def plot_deltas(data):\n",
    "        sns.set_style(\"darkgrid\")\n",
    "        sns.lineplot(data=data, linewidth=2.5)"
   ],
   "metadata": {
    "collapsed": false,
    "pycharm": {
     "name": "#%%\n"
    }
   },
   "execution_count": 217,
   "outputs": []
  },
  {
   "cell_type": "markdown",
   "source": [
    "### HP"
   ],
   "metadata": {
    "collapsed": false
   }
  },
  {
   "cell_type": "code",
   "execution_count": 218,
   "outputs": [
    {
     "data": {
      "text/plain": "Canvas(toolbar=Toolbar(toolitems=[('Home', 'Reset original view', 'home', 'home'), ('Back', 'Back to previous …",
      "application/vnd.jupyter.widget-view+json": {
       "version_major": 2,
       "version_minor": 0,
       "model_id": "563a16e2c2a0480e99f2a82dd92e6c3c"
      }
     },
     "metadata": {},
     "output_type": "display_data"
    }
   ],
   "source": [
    "LinePlotter.set_size(15, 10)\n",
    "LinePlotter.plot_line(Comparison.get_stat_data(\"HP\"))"
   ],
   "metadata": {
    "collapsed": false,
    "pycharm": {
     "name": "#%%\n"
    }
   }
  },
  {
   "cell_type": "code",
   "execution_count": 219,
   "outputs": [],
   "source": [
    "LinePlotter.plot_line(Comparison.get_capped_data(\"HP\", 999))"
   ],
   "metadata": {
    "collapsed": false,
    "pycharm": {
     "name": "#%%\n"
    }
   }
  },
  {
   "cell_type": "markdown",
   "source": [
    "#### HP Deltas"
   ],
   "metadata": {
    "collapsed": false,
    "pycharm": {
     "name": "#%% md\n"
    }
   }
  },
  {
   "cell_type": "code",
   "execution_count": 220,
   "outputs": [],
   "source": [
    "DeltaPlotter.plot_deltas(Comparison.get_stat_data_delta(\"HP\"))"
   ],
   "metadata": {
    "collapsed": false,
    "pycharm": {
     "name": "#%%\n"
    }
   }
  },
  {
   "cell_type": "markdown",
   "source": [
    "### MP"
   ],
   "metadata": {
    "collapsed": false,
    "pycharm": {
     "name": "#%% md\n"
    }
   }
  },
  {
   "cell_type": "code",
   "execution_count": 221,
   "outputs": [],
   "source": [
    "LinePlotter.plot_line(Comparison.get_stat_data(\"MP\"))"
   ],
   "metadata": {
    "collapsed": false,
    "pycharm": {
     "name": "#%%\n"
    }
   }
  },
  {
   "cell_type": "code",
   "execution_count": 222,
   "outputs": [],
   "source": [
    "LinePlotter.plot_line(Comparison.get_capped_data(\"MP\", 99))"
   ],
   "metadata": {
    "collapsed": false,
    "pycharm": {
     "name": "#%%\n"
    }
   }
  },
  {
   "cell_type": "markdown",
   "source": [
    "#### MP Deltas"
   ],
   "metadata": {
    "collapsed": false,
    "pycharm": {
     "name": "#%% md\n"
    }
   }
  },
  {
   "cell_type": "code",
   "execution_count": 223,
   "outputs": [],
   "source": [
    "DeltaPlotter.plot_deltas(Comparison.get_stat_data_delta(\"MP\"))"
   ],
   "metadata": {
    "collapsed": false,
    "pycharm": {
     "name": "#%%\n"
    }
   }
  },
  {
   "cell_type": "markdown",
   "source": [
    "### Evasion"
   ],
   "metadata": {
    "collapsed": false,
    "pycharm": {
     "name": "#%% md\n"
    }
   }
  },
  {
   "cell_type": "code",
   "source": [
    "LinePlotter.plot_line(Comparison.get_stat_data(\"Evasion\"))"
   ],
   "metadata": {
    "collapsed": false,
    "pycharm": {
     "name": "#%%\n"
    }
   },
   "execution_count": 224,
   "outputs": []
  },
  {
   "cell_type": "markdown",
   "source": [
    "#### Evasion Deltas"
   ],
   "metadata": {
    "collapsed": false,
    "pycharm": {
     "name": "#%% md\n"
    }
   }
  },
  {
   "cell_type": "code",
   "execution_count": 225,
   "outputs": [],
   "source": [
    "DeltaPlotter.plot_deltas(Comparison.get_stat_data_delta(\"Evasion\"))"
   ],
   "metadata": {
    "collapsed": false,
    "pycharm": {
     "name": "#%%\n"
    }
   }
  },
  {
   "cell_type": "markdown",
   "source": [
    "### Hit"
   ],
   "metadata": {
    "collapsed": false,
    "pycharm": {
     "name": "#%% md\n"
    }
   }
  },
  {
   "cell_type": "code",
   "execution_count": 226,
   "outputs": [],
   "source": [
    "LinePlotter.plot_line(Comparison.get_stat_data(\"Hit\"))"
   ],
   "metadata": {
    "collapsed": false,
    "pycharm": {
     "name": "#%%\n"
    }
   }
  },
  {
   "cell_type": "markdown",
   "source": [
    "#### Hit Deltas"
   ],
   "metadata": {
    "collapsed": false,
    "pycharm": {
     "name": "#%% md\n"
    }
   }
  },
  {
   "cell_type": "code",
   "execution_count": 227,
   "outputs": [],
   "source": [
    "DeltaPlotter.plot_deltas(Comparison.get_stat_data_delta(\"Hit\"))"
   ],
   "metadata": {
    "collapsed": false,
    "pycharm": {
     "name": "#%%\n"
    }
   }
  },
  {
   "cell_type": "markdown",
   "source": [
    "### Magic"
   ],
   "metadata": {
    "collapsed": false,
    "pycharm": {
     "name": "#%% md\n"
    }
   }
  },
  {
   "cell_type": "code",
   "execution_count": 228,
   "outputs": [],
   "source": [
    "LinePlotter.plot_line(Comparison.get_stat_data(\"Magic\"))"
   ],
   "metadata": {
    "collapsed": false,
    "pycharm": {
     "name": "#%%\n"
    }
   }
  },
  {
   "cell_type": "markdown",
   "source": [
    "#### Magic Deltas"
   ],
   "metadata": {
    "collapsed": false,
    "pycharm": {
     "name": "#%% md\n"
    }
   }
  },
  {
   "cell_type": "code",
   "execution_count": 229,
   "outputs": [],
   "source": [
    "DeltaPlotter.plot_deltas(Comparison.get_stat_data_delta(\"Magic\"))"
   ],
   "metadata": {
    "collapsed": false,
    "pycharm": {
     "name": "#%%\n"
    }
   }
  },
  {
   "cell_type": "markdown",
   "source": [
    "### Magic Defense"
   ],
   "metadata": {
    "collapsed": false,
    "pycharm": {
     "name": "#%% md\n"
    }
   }
  },
  {
   "cell_type": "code",
   "execution_count": 230,
   "outputs": [],
   "source": [
    "LinePlotter.plot_line(Comparison.get_stat_data(\"Magic Defense\"))"
   ],
   "metadata": {
    "collapsed": false,
    "pycharm": {
     "name": "#%%\n"
    }
   }
  },
  {
   "cell_type": "code",
   "execution_count": 231,
   "outputs": [],
   "source": [
    "LinePlotter.plot_line(Comparison.get_capped_data(\"Magic Defense\", 99))"
   ],
   "metadata": {
    "collapsed": false,
    "pycharm": {
     "name": "#%%\n"
    }
   }
  },
  {
   "cell_type": "markdown",
   "source": [
    "#### Magic Defense Deltas"
   ],
   "metadata": {
    "collapsed": false,
    "pycharm": {
     "name": "#%% md\n"
    }
   }
  },
  {
   "cell_type": "code",
   "execution_count": 232,
   "outputs": [],
   "source": [
    "DeltaPlotter.plot_deltas(Comparison.get_stat_data_delta(\"Magic Defense\"))"
   ],
   "metadata": {
    "collapsed": false,
    "pycharm": {
     "name": "#%%\n"
    }
   }
  },
  {
   "cell_type": "markdown",
   "source": [
    "### Power"
   ],
   "metadata": {
    "collapsed": false,
    "pycharm": {
     "name": "#%% md\n"
    }
   }
  },
  {
   "cell_type": "code",
   "execution_count": 233,
   "outputs": [],
   "source": [
    "LinePlotter.plot_line(Comparison.get_stat_data(\"Power\"))"
   ],
   "metadata": {
    "collapsed": false,
    "pycharm": {
     "name": "#%%\n"
    }
   }
  },
  {
   "cell_type": "markdown",
   "source": [
    "#### Power Deltas"
   ],
   "metadata": {
    "collapsed": false,
    "pycharm": {
     "name": "#%% md\n"
    }
   }
  },
  {
   "cell_type": "code",
   "execution_count": 234,
   "outputs": [],
   "source": [
    "DeltaPlotter.plot_deltas(Comparison.get_stat_data_delta(\"Power\"))"
   ],
   "metadata": {
    "collapsed": false,
    "pycharm": {
     "name": "#%%\n"
    }
   }
  },
  {
   "cell_type": "markdown",
   "source": [
    "### Stamina"
   ],
   "metadata": {
    "collapsed": false,
    "pycharm": {
     "name": "#%% md\n"
    }
   }
  },
  {
   "cell_type": "code",
   "execution_count": 235,
   "outputs": [],
   "source": [
    "LinePlotter.plot_line(Comparison.get_stat_data(\"Stamina\"))"
   ],
   "metadata": {
    "collapsed": false,
    "pycharm": {
     "name": "#%%\n"
    }
   }
  },
  {
   "cell_type": "markdown",
   "source": [
    "#### Stamina Deltas"
   ],
   "metadata": {
    "collapsed": false,
    "pycharm": {
     "name": "#%% md\n"
    }
   }
  },
  {
   "cell_type": "code",
   "execution_count": 236,
   "outputs": [],
   "source": [
    "DeltaPlotter.plot_deltas(Comparison.get_stat_data_delta(\"Stamina\"))"
   ],
   "metadata": {
    "collapsed": false,
    "pycharm": {
     "name": "#%%\n"
    }
   }
  }
 ],
 "metadata": {
  "kernelspec": {
   "display_name": "Python 3",
   "language": "python",
   "name": "python3"
  },
  "language_info": {
   "codemirror_mode": {
    "name": "ipython",
    "version": 2
   },
   "file_extension": ".py",
   "mimetype": "text/x-python",
   "name": "python",
   "nbconvert_exporter": "python",
   "pygments_lexer": "ipython2",
   "version": "2.7.6"
  }
 },
 "nbformat": 4,
 "nbformat_minor": 0
}